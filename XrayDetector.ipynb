{
 "cells": [
  {
   "cell_type": "markdown",
   "metadata": {},
   "source": [
    "Steps to Simulate an X-ray Detector\n",
    "\n",
    "1. Generate a Photon with a certain electric Polarization, Energy, Incidence Angle and Incidence Point( call that the origin)\n",
    "2. Once the Photon is \"inside\" the \"detector\", simulate the position where it will have its first compton interaction ( pull from an exponential distribution )\n",
    "3. Once Position of first interaction is known, Use the Klein Nishina Cross section to find the new velocity vector \n",
    "4. Find the position of the second interaction, if it happens at all inside the detector, and use compton double counting to create a histogram of the azimuthal angle of scattering.\n",
    "5. Fit an Acos( phi - phi') + B to those histograms\n",
    "6. See how the measured polarisation varies with energy of photon and polarisation fraction and absorption coefficient\n",
    "7. Change to non-perpendicular incidence angles, see if findings change \n",
    "8. Compare with actual czti histogramss"
   ]
  },
  {
   "cell_type": "code",
   "execution_count": 2,
   "metadata": {},
   "outputs": [
    {
     "name": "stdout",
     "output_type": "stream",
     "text": [
      "hello world\n"
     ]
    }
   ],
   "source": [
    "import matplotlib.pyplot as plt\n",
    "import numpy as np\n",
    "\n",
    "print(\"hello world\")\n"
   ]
  }
 ],
 "metadata": {
  "kernelspec": {
   "display_name": "Python 3",
   "language": "python",
   "name": "python3"
  },
  "language_info": {
   "codemirror_mode": {
    "name": "ipython",
    "version": 3
   },
   "file_extension": ".py",
   "mimetype": "text/x-python",
   "name": "python",
   "nbconvert_exporter": "python",
   "pygments_lexer": "ipython3",
   "version": "3.11.9"
  }
 },
 "nbformat": 4,
 "nbformat_minor": 2
}
